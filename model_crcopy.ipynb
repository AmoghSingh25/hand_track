{
 "cells": [
  {
   "cell_type": "code",
   "execution_count": 2,
   "metadata": {},
   "outputs": [],
   "source": [
    "import matplotlib.pyplot as plt\n",
    "import numpy as np\n",
    "import os\n",
    "import PIL\n",
    "import tensorflow as tf\n",
    "import cv2\n",
    "import time\n",
    "from tensorflow import keras\n",
    "from tensorflow.keras import layers\n",
    "from tensorflow.keras.models import Sequential\n",
    "import pathlib\n",
    "#from keras.backend import manual_variable_initialization manual_variable_initialization(True)"
   ]
  },
  {
   "cell_type": "code",
   "execution_count": 32,
   "metadata": {},
   "outputs": [
    {
     "name": "stdout",
     "output_type": "stream",
     "text": [
      "62400\n",
      "Found 62400 files belonging to 26 classes.\n",
      "Using 49920 files for training.\n",
      "Found 62400 files belonging to 26 classes.\n",
      "Using 12480 files for validation.\n",
      "['A', 'B', 'C', 'D', 'E', 'F', 'G', 'H', 'I', 'J', 'K', 'L', 'M', 'N', 'O', 'P', 'Q', 'R', 'S', 'T', 'U', 'V', 'W', 'X', 'Y', 'Z']\n",
      "26\n"
     ]
    }
   ],
   "source": [
    "img=cv2.imread(\"img/Letters/A/1.jpg\")\n",
    "h,w,c=img.shape\n",
    "del img\n",
    "data_dir=pathlib.Path(\"img/Letters\")\n",
    "image_count = len(list(data_dir.glob('*/*.jpg')))\n",
    "print(image_count)\n",
    "batch_size = 32\n",
    "img_height = h\n",
    "img_width = w\n",
    "train_ds = tf.keras.preprocessing.image_dataset_from_directory(\n",
    "  data_dir,\n",
    "  validation_split=0.2,\n",
    "  subset=\"training\",\n",
    "  seed=123,\n",
    "  image_size=(img_height, img_width),\n",
    "  batch_size=batch_size)\n",
    "val_ds = tf.keras.preprocessing.image_dataset_from_directory(\n",
    "  data_dir,\n",
    "  validation_split=0.2,\n",
    "  subset=\"validation\",\n",
    "  seed=123,\n",
    "  image_size=(img_height, img_width),\n",
    "  batch_size=batch_size)\n",
    "class_names = train_ds.class_names\n",
    "print(class_names)\n",
    "print(len(class_names))"
   ]
  },
  {
   "cell_type": "code",
   "execution_count": 28,
   "metadata": {},
   "outputs": [
    {
     "data": {
      "text/plain": [
       "'for images, labels in train_ds.take(1):\\n  for i in range(2):\\n    ax = plt.subplot(3, 3, i + 1)\\n    #cv2.imshow(images[i].numpy().astype(\"uint8\"))\\n    cv2.imshow(\"Image\",images[i].numpy())\\n    cv2.waitKey(0)\\n    #plt.title(class_names[labels[i]])\\n    #plt.axis(\"off\")'"
      ]
     },
     "execution_count": 28,
     "metadata": {},
     "output_type": "execute_result"
    },
    {
     "data": {
      "text/plain": [
       "<Figure size 720x720 with 0 Axes>"
      ]
     },
     "metadata": {},
     "output_type": "display_data"
    }
   ],
   "source": [
    "plt.figure(figsize=(10, 10))\n",
    "'''for images, labels in train_ds.take(1):\n",
    "  for i in range(2):\n",
    "    ax = plt.subplot(3, 3, i + 1)\n",
    "    #cv2.imshow(images[i].numpy().astype(\"uint8\"))\n",
    "    cv2.imshow(\"Image\",images[i].numpy())\n",
    "    cv2.waitKey(0)\n",
    "    #plt.title(class_names[labels[i]])\n",
    "    #plt.axis(\"off\")'''"
   ]
  },
  {
   "cell_type": "code",
   "execution_count": 33,
   "metadata": {},
   "outputs": [],
   "source": [
    "AUTOTUNE = tf.data.AUTOTUNE"
   ]
  },
  {
   "cell_type": "code",
   "execution_count": 34,
   "metadata": {},
   "outputs": [
    {
     "name": "stdout",
     "output_type": "stream",
     "text": [
      "0.0 1.0\n"
     ]
    }
   ],
   "source": [
    "train_ds = train_ds.cache().shuffle(1000).prefetch(buffer_size=AUTOTUNE)\n",
    "val_ds = val_ds.cache().prefetch(buffer_size=AUTOTUNE)\n",
    "normalization_layer = layers.experimental.preprocessing.Rescaling(1./255)\n",
    "normalized_ds = train_ds.map(lambda x, y: (normalization_layer(x), y))\n",
    "image_batch, labels_batch = next(iter(normalized_ds))\n",
    "first_image = image_batch[0]\n",
    "# Notice the pixels values are now in `[0,1]`.\n",
    "print(np.min(first_image), np.max(first_image))\n",
    "num_classes = 44"
   ]
  },
  {
   "cell_type": "code",
   "execution_count": 35,
   "metadata": {},
   "outputs": [],
   "source": [
    "model = Sequential([\n",
    "  layers.experimental.preprocessing.Rescaling(1./255, input_shape=(50,50, 3)),\n",
    "  layers.Conv2D(16, 3, padding='same', activation='relu'),\n",
    "  layers.MaxPooling2D(),\n",
    "  layers.Conv2D(32, 3, padding='same', activation='relu'),\n",
    "  layers.MaxPooling2D(),\n",
    "  layers.Conv2D(64, 3, padding='same', activation='relu'),\n",
    "  layers.MaxPooling2D(),\n",
    "  layers.Flatten(),\n",
    "  layers.Dense(128, activation='relu'),\n",
    "  layers.Dense(num_classes)\n",
    "])"
   ]
  },
  {
   "cell_type": "code",
   "execution_count": 36,
   "metadata": {},
   "outputs": [],
   "source": [
    "model.compile(optimizer='adam',\n",
    "              loss=tf.keras.losses.SparseCategoricalCrossentropy(from_logits=True),\n",
    "              metrics=['accuracy'])"
   ]
  },
  {
   "cell_type": "code",
   "execution_count": 37,
   "metadata": {},
   "outputs": [
    {
     "name": "stdout",
     "output_type": "stream",
     "text": [
      "Model: \"sequential_1\"\n",
      "_________________________________________________________________\n",
      "Layer (type)                 Output Shape              Param #   \n",
      "=================================================================\n",
      "rescaling_3 (Rescaling)      (None, 50, 50, 3)         0         \n",
      "_________________________________________________________________\n",
      "conv2d_3 (Conv2D)            (None, 50, 50, 16)        448       \n",
      "_________________________________________________________________\n",
      "max_pooling2d_3 (MaxPooling2 (None, 25, 25, 16)        0         \n",
      "_________________________________________________________________\n",
      "conv2d_4 (Conv2D)            (None, 25, 25, 32)        4640      \n",
      "_________________________________________________________________\n",
      "max_pooling2d_4 (MaxPooling2 (None, 12, 12, 32)        0         \n",
      "_________________________________________________________________\n",
      "conv2d_5 (Conv2D)            (None, 12, 12, 64)        18496     \n",
      "_________________________________________________________________\n",
      "max_pooling2d_5 (MaxPooling2 (None, 6, 6, 64)          0         \n",
      "_________________________________________________________________\n",
      "flatten_1 (Flatten)          (None, 2304)              0         \n",
      "_________________________________________________________________\n",
      "dense_2 (Dense)              (None, 128)               295040    \n",
      "_________________________________________________________________\n",
      "dense_3 (Dense)              (None, 44)                5676      \n",
      "=================================================================\n",
      "Total params: 324,300\n",
      "Trainable params: 324,300\n",
      "Non-trainable params: 0\n",
      "_________________________________________________________________\n"
     ]
    }
   ],
   "source": [
    "model.summary()"
   ]
  },
  {
   "cell_type": "code",
   "execution_count": 38,
   "metadata": {},
   "outputs": [
    {
     "name": "stdout",
     "output_type": "stream",
     "text": [
      "Epoch 1/10\n",
      "1560/1560 [==============================] - 47s 27ms/step - loss: 0.0893 - accuracy: 0.9751 - val_loss: 0.0031 - val_accuracy: 0.9995\n",
      "Epoch 2/10\n",
      "1560/1560 [==============================] - 38s 24ms/step - loss: 0.0038 - accuracy: 0.9992 - val_loss: 1.3474e-04 - val_accuracy: 0.9999\n",
      "Epoch 3/10\n",
      "1560/1560 [==============================] - 37s 24ms/step - loss: 9.4392e-05 - accuracy: 1.0000 - val_loss: 1.0064e-05 - val_accuracy: 1.0000\n",
      "Epoch 4/10\n",
      "1560/1560 [==============================] - 40s 26ms/step - loss: 2.6437e-06 - accuracy: 1.0000 - val_loss: 5.2985e-06 - val_accuracy: 1.0000\n",
      "Epoch 5/10\n",
      "1560/1560 [==============================] - 42s 27ms/step - loss: 1.0642e-06 - accuracy: 1.0000 - val_loss: 3.1364e-06 - val_accuracy: 1.0000\n",
      "Epoch 6/10\n",
      "1560/1560 [==============================] - 42s 27ms/step - loss: 4.0820e-07 - accuracy: 1.0000 - val_loss: 1.9645e-06 - val_accuracy: 1.0000\n",
      "Epoch 7/10\n",
      "1560/1560 [==============================] - 40s 25ms/step - loss: 1.8030e-07 - accuracy: 1.0000 - val_loss: 1.4633e-06 - val_accuracy: 1.0000\n",
      "Epoch 8/10\n",
      "1560/1560 [==============================] - 40s 26ms/step - loss: 9.8695e-08 - accuracy: 1.0000 - val_loss: 5.9168e-07 - val_accuracy: 1.0000\n",
      "Epoch 9/10\n",
      "1560/1560 [==============================] - 40s 26ms/step - loss: 0.0052 - accuracy: 0.9986 - val_loss: 5.7921e-04 - val_accuracy: 0.9999\n",
      "Epoch 10/10\n",
      "1560/1560 [==============================] - 40s 26ms/step - loss: 0.0016 - accuracy: 0.9996 - val_loss: 0.0111 - val_accuracy: 0.9980\n"
     ]
    }
   ],
   "source": [
    "epochs=10\n",
    "history = model.fit(\n",
    "  train_ds,\n",
    "  validation_data=val_ds,\n",
    "  epochs=epochs\n",
    ")"
   ]
  },
  {
   "cell_type": "code",
   "execution_count": 39,
   "metadata": {},
   "outputs": [],
   "source": [
    "acc = history.history['accuracy']\n",
    "val_acc = history.history['val_accuracy']"
   ]
  },
  {
   "cell_type": "code",
   "execution_count": 40,
   "metadata": {},
   "outputs": [],
   "source": [
    "loss = history.history['loss']\n",
    "val_loss = history.history['val_loss']"
   ]
  },
  {
   "cell_type": "code",
   "execution_count": 41,
   "metadata": {},
   "outputs": [],
   "source": [
    "epochs_range = range(epochs)"
   ]
  },
  {
   "cell_type": "code",
   "execution_count": 42,
   "metadata": {},
   "outputs": [
    {
     "data": {
      "text/plain": [
       "Text(0.5, 1.0, 'Training and Validation Accuracy')"
      ]
     },
     "execution_count": 42,
     "metadata": {},
     "output_type": "execute_result"
    },
    {
     "data": {
      "image/png": "[encoded data removed]",
      "text/plain": [
       "<Figure size 576x576 with 1 Axes>"
      ]
     },
     "metadata": {
      "needs_background": "light"
     },
     "output_type": "display_data"
    }
   ],
   "source": [
    "plt.figure(figsize=(8, 8))\n",
    "plt.subplot(1, 2, 1)\n",
    "plt.plot(epochs_range, acc, label='Training Accuracy')\n",
    "plt.plot(epochs_range, val_acc, label='Validation Accuracy')\n",
    "plt.legend(loc='lower right')\n",
    "plt.title('Training and Validation Accuracy')"
   ]
  },
  {
   "cell_type": "code",
   "execution_count": 43,
   "metadata": {},
   "outputs": [
    {
     "data": {
      "image/png": "[encoded data removed]",
      "text/plain": [
       "<Figure size 432x288 with 1 Axes>"
      ]
     },
     "metadata": {
      "needs_background": "light"
     },
     "output_type": "display_data"
    }
   ],
   "source": [
    "plt.subplot(1, 2, 2)\n",
    "plt.plot(epochs_range, loss, label='Training Loss')\n",
    "plt.plot(epochs_range, val_loss, label='Validation Loss')\n",
    "plt.legend(loc='upper right')\n",
    "plt.title('Training and Validation Loss')\n",
    "plt.show()"
   ]
  },
  {
   "cell_type": "code",
   "execution_count": 52,
   "metadata": {},
   "outputs": [
    {
     "name": "stdout",
     "output_type": "stream",
     "text": [
      "This image most likely belongs to F with a 100.00 percent confidence.\n"
     ]
    }
   ],
   "source": [
    "sunflower_url = \"https://storage.googleapis.com/download.tensorflow.org/example_images/592px-Red_sunflower.jpg\"\n",
    "sunflower_path = tf.keras.utils.get_file('Red_sunflower', origin=sunflower_url)\n",
    "\n",
    "img = keras.preprocessing.image.load_img(\n",
    "    \"1.jpg\", target_size=(img_height, img_width)\n",
    ")\n",
    "img_array = keras.preprocessing.image.img_to_array(img)\n",
    "img_array = tf.expand_dims(img_array, 0) # Create a batch\n",
    "\n",
    "predictions = model.predict(img_array)\n",
    "score = tf.nn.softmax(predictions[0])\n",
    "\n",
    "print(\n",
    "    \"This image most likely belongs to {} with a {:.2f} percent confidence.\"\n",
    "    .format(class_names[np.argmax(score)], 100 * np.max(score))\n",
    ")"
   ]
  },
  {
   "cell_type": "code",
   "execution_count": 45,
   "metadata": {},
   "outputs": [
    {
     "name": "stdout",
     "output_type": "stream",
     "text": [
      "Model: \"sequential_1\"\n",
      "_________________________________________________________________\n",
      "Layer (type)                 Output Shape              Param #   \n",
      "=================================================================\n",
      "rescaling_3 (Rescaling)      (None, 50, 50, 3)         0         \n",
      "_________________________________________________________________\n",
      "conv2d_3 (Conv2D)            (None, 50, 50, 16)        448       \n",
      "_________________________________________________________________\n",
      "max_pooling2d_3 (MaxPooling2 (None, 25, 25, 16)        0         \n",
      "_________________________________________________________________\n",
      "conv2d_4 (Conv2D)            (None, 25, 25, 32)        4640      \n",
      "_________________________________________________________________\n",
      "max_pooling2d_4 (MaxPooling2 (None, 12, 12, 32)        0         \n",
      "_________________________________________________________________\n",
      "conv2d_5 (Conv2D)            (None, 12, 12, 64)        18496     \n",
      "_________________________________________________________________\n",
      "max_pooling2d_5 (MaxPooling2 (None, 6, 6, 64)          0         \n",
      "_________________________________________________________________\n",
      "flatten_1 (Flatten)          (None, 2304)              0         \n",
      "_________________________________________________________________\n",
      "dense_2 (Dense)              (None, 128)               295040    \n",
      "_________________________________________________________________\n",
      "dense_3 (Dense)              (None, 44)                5676      \n",
      "=================================================================\n",
      "Total params: 324,300\n",
      "Trainable params: 324,300\n",
      "Non-trainable params: 0\n",
      "_________________________________________________________________\n"
     ]
    }
   ],
   "source": [
    "model.summary()"
   ]
  },
  {
   "cell_type": "code",
   "execution_count": 46,
   "metadata": {},
   "outputs": [],
   "source": [
    "checkpoint_path = \"training_letters/cp.ckpt\"\n",
    "checkpoint_dir = os.path.dirname(checkpoint_path)\n",
    "cp_callback = tf.keras.callbacks.ModelCheckpoint(filepath=checkpoint_path,\n",
    "                                                 save_weights_only=True,\n",
    "                                                 verbose=1)"
   ]
  },
  {
   "cell_type": "code",
   "execution_count": 47,
   "metadata": {},
   "outputs": [
    {
     "name": "stdout",
     "output_type": "stream",
     "text": [
      "Epoch 1/10\n",
      "1560/1560 [==============================] - 37s 24ms/step - loss: 0.0013 - accuracy: 0.9996 - val_loss: 4.8111e-04 - val_accuracy: 0.9999\n",
      "\n",
      "Epoch 00001: saving model to training_letters\\cp.ckpt\n",
      "Epoch 2/10\n",
      "1560/1560 [==============================] - 38s 24ms/step - loss: 0.0022 - accuracy: 0.9994 - val_loss: 1.7683e-05 - val_accuracy: 1.0000\n",
      "\n",
      "Epoch 00002: saving model to training_letters\\cp.ckpt\n",
      "Epoch 3/10\n",
      "1560/1560 [==============================] - 40s 25ms/step - loss: 0.0012 - accuracy: 0.9998 - val_loss: 0.0052 - val_accuracy: 0.9983\n",
      "\n",
      "Epoch 00003: saving model to training_letters\\cp.ckpt\n",
      "Epoch 4/10\n",
      "1560/1560 [==============================] - 40s 26ms/step - loss: 1.7385e-05 - accuracy: 1.0000 - val_loss: 1.9629e-06 - val_accuracy: 1.0000\n",
      "\n",
      "Epoch 00004: saving model to training_letters\\cp.ckpt\n",
      "Epoch 5/10\n",
      "1560/1560 [==============================] - 38s 24ms/step - loss: 6.2196e-07 - accuracy: 1.0000 - val_loss: 2.7759e-06 - val_accuracy: 1.0000\n",
      "\n",
      "Epoch 00005: saving model to training_letters\\cp.ckpt\n",
      "Epoch 6/10\n",
      "1560/1560 [==============================] - 39s 25ms/step - loss: 2.4675e-07 - accuracy: 1.0000 - val_loss: 3.6715e-06 - val_accuracy: 1.0000\n",
      "\n",
      "Epoch 00006: saving model to training_letters\\cp.ckpt\n",
      "Epoch 7/10\n",
      "1560/1560 [==============================] - 41s 26ms/step - loss: 1.2483e-07 - accuracy: 1.0000 - val_loss: 2.8415e-06 - val_accuracy: 1.0000\n",
      "\n",
      "Epoch 00007: saving model to training_letters\\cp.ckpt\n",
      "Epoch 8/10\n",
      "1560/1560 [==============================] - 41s 27ms/step - loss: 6.4187e-08 - accuracy: 1.0000 - val_loss: 4.9038e-06 - val_accuracy: 1.0000\n",
      "\n",
      "Epoch 00008: saving model to training_letters\\cp.ckpt\n",
      "Epoch 9/10\n",
      "1560/1560 [==============================] - 40s 25ms/step - loss: 2.8835e-08 - accuracy: 1.0000 - val_loss: 3.0166e-06 - val_accuracy: 1.0000\n",
      "\n",
      "Epoch 00009: saving model to training_letters\\cp.ckpt\n",
      "Epoch 10/10\n",
      "1560/1560 [==============================] - 41s 26ms/step - loss: 1.3924e-08 - accuracy: 1.0000 - val_loss: 3.6023e-06 - val_accuracy: 1.0000\n",
      "\n",
      "Epoch 00010: saving model to training_letters\\cp.ckpt\n"
     ]
    }
   ],
   "source": [
    "history = model.fit(\n",
    "  train_ds,\n",
    "  validation_data=val_ds,\n",
    "  epochs=epochs,\n",
    "    callbacks=[cp_callback]\n",
    ")"
   ]
  },
  {
   "cell_type": "code",
   "execution_count": 48,
   "metadata": {},
   "outputs": [
    {
     "name": "stdout",
     "output_type": "stream",
     "text": [
      "INFO:tensorflow:Assets written to: saved_model/letters_model\\assets\n"
     ]
    }
   ],
   "source": [
    "#!mkdir -p saved_model\n",
    "model.save('saved_model/letters_model')\n"
   ]
  },
  {
   "cell_type": "code",
   "execution_count": 49,
   "metadata": {},
   "outputs": [
    {
     "name": "stdout",
     "output_type": "stream",
     "text": [
      "This image most likely belongs to [5] with a 100.00 percent confidence.\n"
     ]
    }
   ],
   "source": [
    "img = keras.preprocessing.image.load_img(\n",
    "    \"1.jpg\", target_size=(50,50)\n",
    ")\n",
    "img_array = keras.preprocessing.image.img_to_array(img)\n",
    "img_array = tf.expand_dims(img_array, 0) # Create a batch\n",
    "\n",
    "predictions = model.predict(img_array)\n",
    "score = tf.nn.softmax(predictions[0])\n",
    "cl=predictions.argmax(axis=-1)\n",
    "\n",
    "print(\n",
    "    \"This image most likely belongs to {} with a {:.2f} percent confidence.\"\n",
    "    .format(cl, 100 * np.max(score))\n",
    ")"
   ]
  },
  {
   "cell_type": "code",
   "execution_count": 7,
   "metadata": {},
   "outputs": [
    {
     "name": "stdout",
     "output_type": "stream",
     "text": [
      "Model: \"sequential\"\n",
      "_________________________________________________________________\n",
      "Layer (type)                 Output Shape              Param #   \n",
      "=================================================================\n",
      "rescaling_1 (Rescaling)      (None, 50, 50, 3)         0         \n",
      "_________________________________________________________________\n",
      "conv2d (Conv2D)              (None, 50, 50, 16)        448       \n",
      "_________________________________________________________________\n",
      "max_pooling2d (MaxPooling2D) (None, 25, 25, 16)        0         \n",
      "_________________________________________________________________\n",
      "conv2d_1 (Conv2D)            (None, 25, 25, 32)        4640      \n",
      "_________________________________________________________________\n",
      "max_pooling2d_1 (MaxPooling2 (None, 12, 12, 32)        0         \n",
      "_________________________________________________________________\n",
      "conv2d_2 (Conv2D)            (None, 12, 12, 64)        18496     \n",
      "_________________________________________________________________\n",
      "max_pooling2d_2 (MaxPooling2 (None, 6, 6, 64)          0         \n",
      "_________________________________________________________________\n",
      "flatten (Flatten)            (None, 2304)              0         \n",
      "_________________________________________________________________\n",
      "dense (Dense)                (None, 128)               295040    \n",
      "_________________________________________________________________\n",
      "dense_1 (Dense)              (None, 44)                5676      \n",
      "=================================================================\n",
      "Total params: 324,300\n",
      "Trainable params: 324,300\n",
      "Non-trainable params: 0\n",
      "_________________________________________________________________\n"
     ]
    }
   ],
   "source": [
    "new_model = tf.keras.models.load_model('saved_model/numbers_model')\n",
    "new_model.summary()"
   ]
  },
  {
   "cell_type": "code",
   "execution_count": 21,
   "metadata": {},
   "outputs": [],
   "source": [
    "new_model = Sequential([\n",
    "  layers.experimental.preprocessing.Rescaling(1./255, input_shape=(50,50, 3)),\n",
    "  layers.Conv2D(16, 3, padding='same', activation='relu'),\n",
    "  layers.MaxPooling2D(),\n",
    "  layers.Conv2D(32, 3, padding='same', activation='relu'),\n",
    "  layers.MaxPooling2D(),\n",
    "  layers.Conv2D(64, 3, padding='same', activation='relu'),\n",
    "  layers.MaxPooling2D(),\n",
    "  layers.Flatten(),\n",
    "  layers.Dense(128, activation='relu'),\n",
    "  layers.Dense(44)\n",
    "])"
   ]
  },
  {
   "cell_type": "code",
   "execution_count": 22,
   "metadata": {},
   "outputs": [
    {
     "name": "stdout",
     "output_type": "stream",
     "text": [
      "390/390 - 2s - loss: 3.8055 - accuracy: 0.0151\n",
      "Untrained model, accuracy:  1.51%\n"
     ]
    }
   ],
   "source": [
    "new_model.compile(optimizer='adam',\n",
    "              loss=tf.keras.losses.SparseCategoricalCrossentropy(from_logits=True),\n",
    "              metrics=['accuracy'])\n",
    "loss, acc = new_model.evaluate(val_ds, verbose=2)\n",
    "print(\"Untrained model, accuracy: {:5.2f}%\".format(100 * acc))"
   ]
  },
  {
   "cell_type": "code",
   "execution_count": 11,
   "metadata": {},
   "outputs": [
    {
     "name": "stdout",
     "output_type": "stream",
     "text": [
      "660/660 - 6s - loss: 12.1134 - accuracy: 0.1264\n",
      "Restored model, accuracy: 12.64%\n"
     ]
    }
   ],
   "source": [
    "checkpoint_path = \"training_1/cp.ckpt\"\n",
    "new_model.load_weights(checkpoint_path)\n",
    "loss, acc = new_model.evaluate(val_ds, verbose=2)\n",
    "print(\"Restored model, accuracy: {:5.2f}%\".format(100 * acc))"
   ]
  },
  {
   "cell_type": "code",
   "execution_count": 25,
   "metadata": {},
   "outputs": [
    {
     "name": "stdout",
     "output_type": "stream",
     "text": [
      "INFO:tensorflow:Assets written to: saved_model/new_model\\assets\n",
      "INFO:tensorflow:Assets written to: saved_model/model2\\assets\n"
     ]
    }
   ],
   "source": [
    "new_model.save('saved_model/new_model')\n",
    "model.save('saved_model/model2')"
   ]
  },
  {
   "cell_type": "code",
   "execution_count": 43,
   "metadata": {},
   "outputs": [],
   "source": [
    "test_model=keras.models.load_model('saved_model/numbers_model')"
   ]
  },
  {
   "cell_type": "code",
   "execution_count": 44,
   "metadata": {},
   "outputs": [
    {
     "name": "stdout",
     "output_type": "stream",
     "text": [
      "135/135 - 1s - loss: 6.5639e-07 - accuracy: 1.0000\n",
      "Test model, accuracy: 100.00%\n"
     ]
    }
   ],
   "source": [
    "loss, acc = test_model.evaluate(val_ds, verbose=2)\n",
    "print(\"Test model, accuracy: {:5.2f}%\".format(100 * acc))"
   ]
  },
  {
   "cell_type": "code",
   "execution_count": 53,
   "metadata": {},
   "outputs": [],
   "source": [
    "tf.keras.backend.clear_session()"
   ]
  }
 ],
 "metadata": {
  "interpreter": {
   "hash": "324e240ea573fd3d8056e12ea70d483238364e9b42112e18bb174b35d8d396b2"
  },
  "kernelspec": {
   "display_name": "Python 3",
   "language": "python",
   "name": "python3"
  },
  "language_info": {
   "codemirror_mode": {
    "name": "ipython",
    "version": 3
   },
   "file_extension": ".py",
   "mimetype": "text/x-python",
   "name": "python",
   "nbconvert_exporter": "python",
   "pygments_lexer": "ipython3",
   "version": "3.9.4"
  }
 },
 "nbformat": 4,
 "nbformat_minor": 2
}
