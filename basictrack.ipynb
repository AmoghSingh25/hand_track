{
 "cells": [
  {
   "cell_type": "code",
   "execution_count": null,
   "metadata": {},
   "outputs": [],
   "source": [
    "import cv2\n",
    "import mediapipe as mp\n",
    "import time\n",
    "import numpy as np \n",
    "import imutils\n",
    "import matplotlib.pyplot as plt"
   ]
  },
  {
   "cell_type": "code",
   "execution_count": null,
   "metadata": {},
   "outputs": [],
   "source": [
    "cap=cv2.VideoCapture(0)"
   ]
  },
  {
   "cell_type": "code",
   "execution_count": null,
   "metadata": {},
   "outputs": [],
   "source": [
    "mpHands=mp.solutions.hands\n",
    "hands=mpHands.Hands(max_num_hands=1)\n",
    "mpDraw=mp.solutions.drawing_utils"
   ]
  },
  {
   "cell_type": "code",
   "execution_count": null,
   "metadata": {},
   "outputs": [],
   "source": [
    "pTime=0\n",
    "cTime=0\n",
    "def bag():\n",
    "    img=cv2.imread(\"testing.png\")\n",
    "    foreground = img\n",
    "    r=img\n",
    "    foreground = cv2.cvtColor(foreground, cv2.COLOR_BGR2RGB)\n",
    "    foreground = cv2.resize(foreground,(r.shape[1],r.shape[0]))\n",
    "    background = 255 * np.ones_like(r).astype(np.uint8)\n",
    "    foreground = foreground.astype(float)\n",
    "    background = background.astype(float)\n",
    "    th, alpha = cv2.threshold(np.array(r),0,255, cv2.THRESH_BINARY)\n",
    "    alpha = cv2.GaussianBlur(alpha, (7,7),0)\n",
    "    alpha = alpha.astype(float)/255\n",
    "    foreground = cv2.multiply(alpha, foreground)\n",
    "    background = cv2.multiply(1.0 - alpha, background)\n",
    "    outImage = cv2.add(foreground, background)\n",
    "    plt.imshow(outImage)\n",
    "    return outImage/255\n",
    "bag()"
   ]
  },
  {
   "cell_type": "code",
   "execution_count": null,
   "metadata": {},
   "outputs": [],
   "source": [
    "def filter_img():\n",
    "    img=cv2.imread(\"A.jpg\")\n",
    "    img=cv2.cvtColor(img,cv2.COLOR_BGR2GRAY)\n",
    "    (thresh, blackAndWhiteImage) = cv2.threshold(img, , 255, cv2.THRESH_BINARY)\n",
    "    cv2.imshow(\"Img\",blackAndWhiteImage)\n",
    "    cv2.waitKey(0)\n",
    "    cv2.destroyAllWindows()\n",
    "filter_img()"
   ]
  },
  {
   "cell_type": "code",
   "execution_count": null,
   "metadata": {},
   "outputs": [],
   "source": [
    "def cont(img):\n",
    "    #img=cv2.imread(\"testing.png\")\n",
    "    h,w,c=img.shape\n",
    "    img=cv2.cvtColor(img,cv2.COLOR_BGR2GRAY)\n",
    "    ret, thresh = cv2.threshold(img, 100, 255, 0)\n",
    "    blank_img = np.ones((h,w,3), np.uint8)\n",
    "    contours = cv2.findContours(thresh, cv2.RETR_EXTERNAL,cv2.CHAIN_APPROX_SIMPLE)\n",
    "    contours = imutils.grab_contours(contours)\n",
    "    if(len(contours)!=0):\n",
    "        cn=max(contours,key=cv2.contourArea)\n",
    "        \n",
    "        cv2.fillPoly(img, pts =[cn], color=(0,0,0))\n",
    "    img=filter_img(img)\n",
    "    img=cv2.flip(img,flipCode=1)\n",
    "    return img"
   ]
  },
  {
   "cell_type": "code",
   "execution_count": null,
   "metadata": {},
   "outputs": [],
   "source": [
    "def process():\n",
    "    if True:\n",
    "        img=cv2.imread(\"A.jpg\")\n",
    "        img=cv2.flip(img,flipCode=1)\n",
    "        h,w,c=img.shape\n",
    "        '''smig=img[10:int(h/2)+10,int(w/2):int(0.9*w)]\n",
    "        smig=cv2.cvtColor(smig,cv2.COLOR_BGR2GRAY)\n",
    "        blur=cv2.GaussianBlur(smig,(5,5),2)\n",
    "        th3 = cv2.adaptiveThreshold(blur,255,cv2.ADAPTIVE_THRESH_GAUSSIAN_C,cv2.THRESH_BINARY_INV,11,2)\n",
    "        ret, res = cv2.threshold(th3, 80, 255, cv2.THRESH_BINARY_INV+cv2.THRESH_OTSU)\n",
    "        smig=res'''\n",
    "        imgRGB=cv2.cvtColor(img,cv2.COLOR_BGR2RGB)\n",
    "        results=hands.process(imgRGB)\n",
    "\n",
    "        if results.multi_hand_landmarks:\n",
    "            for hand_landmarks in results.multi_hand_landmarks:\n",
    "               # print(\n",
    "            #  f'Index finger tip coordinates: (',\n",
    "            #  f'{hand_landmarks.landmark[mpHands.HandLandmark.INDEX_FINGER_TIP].x * w}, '\n",
    "            #  f'{hand_landmarks.landmark[mpHands.HandLandmark.INDEX_FINGER_TIP].y * h})'\n",
    "         # )\n",
    "\n",
    "                #mpDraw.draw_landmarks(\n",
    "                #img, hand_landmarks, mpHands.HAND_CONNECTIONS)\n",
    "\n",
    "                end_pt=(int(hand_landmarks.landmark[mpHands.HandLandmark.WRIST].x * w+100),int(hand_landmarks.landmark[mpHands.HandLandmark.WRIST].y * h+60))\n",
    "                start_pt=[int(end_pt[0]-250),int(end_pt[1])-300]\n",
    "                if(start_pt[1]+20>hand_landmarks.landmark[mpHands.HandLandmark.INDEX_FINGER_TIP].y * h):\n",
    "                    start_pt[1]=int(hand_landmarks.landmark[mpHands.HandLandmark.INDEX_FINGER_TIP].y * h-50)\n",
    "                smig=img[start_pt[1]:end_pt[1],start_pt[0]:end_pt[0]]\n",
    "                cont(smig)\n",
    "                cv2.rectangle(img,tuple(start_pt),end_pt,color=(255,255,255),thickness=3)\n",
    "                try:\n",
    "                    cv2.imshow(\"Image\", cont(img))\n",
    "                    cv2.imshow(\"Image whole \", img)\n",
    "                    cv2.waitKey(0)\n",
    "                    cv2.destoryAllWindows()\n",
    "                except:\n",
    "                    print('out of range')\n",
    "\n",
    "\n",
    "process()"
   ]
  },
  {
   "cell_type": "code",
   "execution_count": null,
   "metadata": {},
   "outputs": [],
   "source": [
    "import numpy as np\n",
    "import cv2\n",
    "\n",
    "\n",
    "hand = cv2.imread(\"A.jpg\", 0)\n",
    "\n",
    "ret, threshold = cv2.threshold(hand, 10, 255, cv2.THRESH_BINARY)\n",
    "\n",
    "contours, hiearchy = cv2.findContours(threshold, cv2.RETR_TREE, cv2.CHAIN_APPROX_SIMPLE)\n",
    "basic_contours = cv2.drawContours(hand, contours, -1, (0,255,0))\n",
    "\n",
    "hull = [cv2.convexHull(c) for c in contours]\n",
    "final  = cv2.drawContours(hand, hull, -1, (255,255,255))\n",
    "\n",
    "\n",
    "cv2.imshow('Original', hand)\n",
    "cv2.imshow('Thresh', threshold)\n",
    "cv2.imshow('Convel Hull', hand)\n",
    "cv2.waitKey(0)\n"
   ]
  }
 ],
 "metadata": {
  "kernelspec": {
   "name": "python394jvsc74a57bd0324e240ea573fd3d8056e12ea70d483238364e9b42112e18bb174b35d8d396b2",
   "display_name": "Python 3.9.4 64-bit"
  },
  "language_info": {
   "codemirror_mode": {
    "name": "ipython",
    "version": 3
   },
   "file_extension": ".py",
   "mimetype": "text/x-python",
   "name": "python",
   "nbconvert_exporter": "python",
   "pygments_lexer": "ipython3",
   "version": "3.9.4"
  }
 },
 "nbformat": 4,
 "nbformat_minor": 2
}